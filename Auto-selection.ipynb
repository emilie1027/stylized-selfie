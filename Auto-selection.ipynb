{
 "cells": [
  {
   "cell_type": "code",
   "execution_count": 334,
   "metadata": {
    "collapsed": false
   },
   "outputs": [],
   "source": [
    "import os\n",
    "import numpy as np\n",
    "import scipy.misc\n",
    "from stylize import stylize\n",
    "import math\n",
    "from argparse import ArgumentParser\n",
    "\n",
    "import vgg\n",
    "import tensorflow as tf\n",
    "import numpy as np\n",
    "from sys import stderr"
   ]
  },
  {
   "cell_type": "code",
   "execution_count": 335,
   "metadata": {
    "collapsed": true
   },
   "outputs": [],
   "source": [
    "# default arguments\n",
    "VGG_PATH = 'imagenet-vgg-verydeep-19.mat'\n",
    "CONTENT_LAYER = 'relu4_2'\n",
    "VERTICAL_SHAPE = (682, 512, 3)\n",
    "HORIZONTAL_SHAPE = (384, 512, 3)"
   ]
  },
  {
   "cell_type": "code",
   "execution_count": 336,
   "metadata": {
    "collapsed": true
   },
   "outputs": [],
   "source": [
    "def imread(path):\n",
    "    return scipy.misc.imread(path)\n",
    "\n",
    "def imresize(x, shape):\n",
    "    return scipy.misc.imresize(x, shape)"
   ]
  },
  {
   "cell_type": "code",
   "execution_count": 337,
   "metadata": {
    "collapsed": false
   },
   "outputs": [],
   "source": [
    "def features(library_type, options):\n",
    "    library = options.library_vertical\n",
    "    target_shape = VERTICAL_SHAPE\n",
    "    \n",
    "    if library_type == 'horizontal':\n",
    "        library = options.library_horizontal\n",
    "        target_shape = HORIZONTAL_SHAPE\n",
    "        \n",
    "    style_paths = [os.path.join(library, f) for f in os.listdir(library) if f.endswith('.jpg') or f.endswith('.png')]\n",
    "    style_features = [{} for _ in style_paths]\n",
    "    # compute style features in feedforward mode\n",
    "    for i in range(len(style_paths)):\n",
    "        style = imread(style_paths[i])\n",
    "        style = scipy.misc.imresize(style, target_shape)\n",
    "        style_shape = (1,) + style.shape\n",
    "        g = tf.Graph()\n",
    "        with g.as_default(), g.device('/cpu:0'), tf.Session() as sess:\n",
    "            image = tf.placeholder('float', shape=style_shape)\n",
    "            net, _ = vgg.net(network, image)\n",
    "            style_pre = np.array([vgg.preprocess(style, mean_pixel)])\n",
    "            style_features[i][CONTENT_LAYER] = net[CONTENT_LAYER].eval(feed_dict={image: style_pre})\n",
    "    return style_paths, style_features"
   ]
  },
  {
   "cell_type": "code",
   "execution_count": 348,
   "metadata": {
    "collapsed": false
   },
   "outputs": [],
   "source": [
    "class Args(dict):\n",
    "    pass\n",
    "\n",
    "options = Args()\n",
    "options.content = 'examples/google2.jpg'\n",
    "options.library_vertical = 'library/vertical/'\n",
    "options.library_horizontal = 'library/horizontal/'\n",
    "options.network = VGG_PATH"
   ]
  },
  {
   "cell_type": "code",
   "execution_count": 349,
   "metadata": {
    "collapsed": false
   },
   "outputs": [
    {
     "name": "stdout",
     "output_type": "stream",
     "text": [
      "(384, 512, 3)\n"
     ]
    }
   ],
   "source": [
    "content = imread(options.content)\n",
    "network = options.network\n",
    "\n",
    "content_shape = content.shape\n",
    "target_shape = VERTICAL_SHAPE\n",
    "if (content_shape[0] < content_shape[1]):\n",
    "    target_shape = HORIZONTAL_SHAPE\n",
    "content = imresize(content, target_shape)\n",
    "\n",
    "print(target_shape)\n",
    "\n",
    "\n"
   ]
  },
  {
   "cell_type": "code",
   "execution_count": 350,
   "metadata": {
    "collapsed": false
   },
   "outputs": [],
   "source": [
    "shape = (1,) + content.shape\n",
    "content_features = {}\n",
    "\n",
    "g = tf.Graph()\n",
    "# compute content features in feedforward mode\n",
    "with g.as_default(), g.device('/cpu:0'), tf.Session() as sess:\n",
    "    image = tf.placeholder('float', shape=shape)\n",
    "    net, mean_pixel = vgg.net(network, image)\n",
    "    content_pre = np.array([vgg.preprocess(content, mean_pixel)])\n",
    "    content_features[CONTENT_LAYER] = net[CONTENT_LAYER].eval(\n",
    "            feed_dict={image: content_pre})"
   ]
  },
  {
   "cell_type": "code",
   "execution_count": 331,
   "metadata": {
    "collapsed": false
   },
   "outputs": [],
   "source": [
    "style_paths_vertical, style_features_vertical = features('vertical', options)\n",
    "style_paths_horizontal, style_features_horizontal = features('horizontal', options)"
   ]
  },
  {
   "cell_type": "code",
   "execution_count": 351,
   "metadata": {
    "collapsed": false
   },
   "outputs": [],
   "source": [
    "distance = []\n",
    "\n",
    "style_features = style_features_vertical\n",
    "style_paths = style_paths_vertical\n",
    "\n",
    "if target_shape[0] < target_shape[1]:\n",
    "    style_features = style_features_horizontal \n",
    "    style_paths = style_paths_horizontal\n",
    "\n",
    "for i in range(len(style_features)):\n",
    "    g = tf.Graph()\n",
    "    with g.as_default(), g.device('/cpu:0'), tf.Session() as sess:\n",
    "        ###distance between input content and style content\n",
    "        content_loss = tf.nn.l2_loss(\n",
    "            style_features[i][CONTENT_LAYER] - content_features[CONTENT_LAYER]) / content_features[CONTENT_LAYER].size\n",
    "        distance.append(content_loss.eval())"
   ]
  },
  {
   "cell_type": "code",
   "execution_count": 352,
   "metadata": {
    "collapsed": false
   },
   "outputs": [
    {
     "name": "stdout",
     "output_type": "stream",
     "text": [
      "[254612.39, 269604.44, 268701.34, 313079.84, 298431.16, 305856.78, 276659.94, 307454.66, 329315.09, 312541.75, 286039.91, 291221.53, 366523.03, 280096.72]\n"
     ]
    },
    {
     "data": {
      "text/plain": [
       "['library/horizontal/1905.jpg',\n",
       " 'library/horizontal/maria-petipa.jpg',\n",
       " 'library/horizontal/ivan-ilyin.jpg',\n",
       " 'library/horizontal/self-portrait-1908.jpg',\n",
       " 'library/horizontal/self-portrait.jpg!Large.jpg',\n",
       " 'library/horizontal/self-portrait-in-the-garden.jpg!Large.jpg',\n",
       " 'library/horizontal/self-portrait-vistula-river-behind.jpg!Large.jpg',\n",
       " 'library/horizontal/portrait-of-zacherie-zacharian-1886.jpg!Large.jpg',\n",
       " 'library/horizontal/self-portrait-1905.jpg!Large(1).jpg',\n",
       " 'library/horizontal/self-portrait-1909.jpg',\n",
       " 'library/horizontal/self-portrait-1953.jpg!Large.jpg',\n",
       " 'library/horizontal/portrait-of-simone-fayet-1907.jpg!Large.jpg',\n",
       " 'library/horizontal/self-portrait-1946.jpg',\n",
       " 'library/horizontal/self-portrait-with-a-sunflower-1632.jpg!Large.jpg']"
      ]
     },
     "execution_count": 352,
     "metadata": {},
     "output_type": "execute_result"
    }
   ],
   "source": [
    "indices = [i[0] for i in sorted(enumerate(distance), key=lambda x:x[1])]\n",
    "images = []\n",
    "for i in range(len(indices)):\n",
    "    images.append(style_paths[indices[i]])\n",
    "print(distance)\n",
    "images\n"
   ]
  },
  {
   "cell_type": "code",
   "execution_count": 281,
   "metadata": {
    "collapsed": false
   },
   "outputs": [
    {
     "ename": "SyntaxError",
     "evalue": "invalid syntax (<ipython-input-281-f34fb8720f3d>, line 1)",
     "output_type": "error",
     "traceback": [
      "\u001b[0;36m  File \u001b[0;32m\"<ipython-input-281-f34fb8720f3d>\"\u001b[0;36m, line \u001b[0;32m1\u001b[0m\n\u001b[0;31m    style_paths[]\u001b[0m\n\u001b[0m                ^\u001b[0m\n\u001b[0;31mSyntaxError\u001b[0m\u001b[0;31m:\u001b[0m invalid syntax\n"
     ]
    }
   ],
   "source": [
    "style_paths[0]"
   ]
  },
  {
   "cell_type": "code",
   "execution_count": null,
   "metadata": {
    "collapsed": true
   },
   "outputs": [],
   "source": []
  },
  {
   "cell_type": "code",
   "execution_count": null,
   "metadata": {
    "collapsed": true
   },
   "outputs": [],
   "source": []
  }
 ],
 "metadata": {
  "kernelspec": {
   "display_name": "Python 3",
   "language": "python",
   "name": "python3"
  },
  "language_info": {
   "codemirror_mode": {
    "name": "ipython",
    "version": 3
   },
   "file_extension": ".py",
   "mimetype": "text/x-python",
   "name": "python",
   "nbconvert_exporter": "python",
   "pygments_lexer": "ipython3",
   "version": "3.5.1"
  }
 },
 "nbformat": 4,
 "nbformat_minor": 0
}
