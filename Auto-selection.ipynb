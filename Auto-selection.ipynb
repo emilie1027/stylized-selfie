{
 "cells": [
  {
   "cell_type": "code",
   "execution_count": 7,
   "metadata": {
    "collapsed": true
   },
   "outputs": [],
   "source": [
    "import os\n",
    "import numpy as np\n",
    "import scipy.misc\n",
    "from stylize import stylize\n",
    "import math\n",
    "from argparse import ArgumentParser\n",
    "\n",
    "import vgg\n",
    "import tensorflow as tf\n",
    "import numpy as np\n",
    "from sys import stderr"
   ]
  },
  {
   "cell_type": "code",
   "execution_count": 8,
   "metadata": {
    "collapsed": true
   },
   "outputs": [],
   "source": [
    "# default arguments\n",
    "VGG_PATH = 'imagenet-vgg-verydeep-19.mat'\n",
    "CONTENT_LAYER = 'relu4_2'"
   ]
  },
  {
   "cell_type": "code",
   "execution_count": 17,
   "metadata": {
    "collapsed": true
   },
   "outputs": [],
   "source": [
    "def imread(path):\n",
    "    return scipy.misc.imread(path).astype(np.float)\n",
    "\n",
    "def imresize(x, shape):\n",
    "    return scipy.misc.imresize(x, shape)"
   ]
  },
  {
   "cell_type": "code",
   "execution_count": 18,
   "metadata": {
    "collapsed": true
   },
   "outputs": [],
   "source": [
    "class Args(dict):\n",
    "    pass\n",
    "\n",
    "options = Args()\n",
    "options.content = 'examples/selfie_ljy.jpg'\n",
    "options.library = 'library/vertical/'\n",
    "options.network = VGG_PATH\n",
    "options.width = 512"
   ]
  },
  {
   "cell_type": "code",
   "execution_count": 27,
   "metadata": {
    "collapsed": true
   },
   "outputs": [],
   "source": [
    "content = imread(options.content)\n",
    "network = options.network\n",
    "style_paths = [os.path.join(options.library, f) for f in os.listdir(options.library) if f.endswith('.jpg') or f.endswith('.png')]\n",
    "width = options.width\n",
    "\n",
    "target_shape = content.shape\n",
    "\n",
    "if width is not None:\n",
    "    #compute new height according to the given width\n",
    "    target_shape = (int(math.floor(float(content.shape[0]) /\n",
    "            content.shape[1] * width)), width, content.shape[2])\n",
    "    content = imresize(content, target_shape)"
   ]
  },
  {
   "cell_type": "code",
   "execution_count": 28,
   "metadata": {
    "collapsed": false
   },
   "outputs": [
    {
     "data": {
      "text/plain": [
       "(384, 512, 3)"
      ]
     },
     "execution_count": 28,
     "metadata": {},
     "output_type": "execute_result"
    }
   ],
   "source": [
    "\n",
    "\n",
    "target_shape"
   ]
  },
  {
   "cell_type": "code",
   "execution_count": 29,
   "metadata": {
    "collapsed": true
   },
   "outputs": [],
   "source": [
    "shape = (1,) + content.shape\n",
    "content_features = {}\n",
    "\n",
    "g = tf.Graph()\n",
    "# compute content features in feedforward mode\n",
    "with g.as_default(), g.device('/cpu:0'), tf.Session() as sess:\n",
    "    image = tf.placeholder('float', shape=shape)\n",
    "    net, mean_pixel = vgg.net(network, image)\n",
    "    content_pre = np.array([vgg.preprocess(content, mean_pixel)])\n",
    "    content_features[CONTENT_LAYER] = net[CONTENT_LAYER].eval(\n",
    "            feed_dict={image: content_pre})"
   ]
  },
  {
   "cell_type": "code",
   "execution_count": 30,
   "metadata": {
    "collapsed": true
   },
   "outputs": [],
   "source": [
    "style_features = [{} for _ in style_paths]\n",
    "\n",
    "# compute style features in feedforward mode\n",
    "for i in range(len(style_paths)):\n",
    "    style = imread(style_paths[i])\n",
    "    style = scipy.misc.imresize(style, target_shape)\n",
    "    style_shape = (1,) + style.shape\n",
    "    g = tf.Graph()\n",
    "    with g.as_default(), g.device('/cpu:0'), tf.Session() as sess:\n",
    "        image = tf.placeholder('float', shape=style_shape)\n",
    "        net, _ = vgg.net(network, image)\n",
    "        style_pre = np.array([vgg.preprocess(style, mean_pixel)])\n",
    "        style_features[i][CONTENT_LAYER] = net[CONTENT_LAYER].eval(feed_dict={image: style_pre})"
   ]
  },
  {
   "cell_type": "code",
   "execution_count": 31,
   "metadata": {
    "collapsed": true
   },
   "outputs": [],
   "source": [
    "distance = []\n",
    "for i in range(len(style_features)):\n",
    "    g = tf.Graph()\n",
    "    with g.as_default(), g.device('/cpu:0'), tf.Session() as sess:\n",
    "        ###distance between input content and style content\n",
    "        content_loss = tf.nn.l2_loss(\n",
    "            style_features[i][CONTENT_LAYER] - content_features[CONTENT_LAYER]) / content_features[CONTENT_LAYER].size\n",
    "        distance.append(content_loss.eval())"
   ]
  },
  {
   "cell_type": "code",
   "execution_count": 32,
   "metadata": {
    "collapsed": false
   },
   "outputs": [
    {
     "name": "stdout",
     "output_type": "stream",
     "text": [
      "library/vertical/self-portrait-1888.jpg!Large.jpg\n"
     ]
    },
    {
     "data": {
      "text/plain": [
       "[224838.0,\n",
       " 168629.61,\n",
       " 224729.17,\n",
       " 213819.56,\n",
       " 174336.39,\n",
       " 215172.06,\n",
       " 156204.17,\n",
       " 262403.22,\n",
       " 200617.88,\n",
       " 193308.8,\n",
       " 264402.75,\n",
       " 325508.09,\n",
       " 236156.81,\n",
       " 238325.64,\n",
       " 175384.88,\n",
       " 172256.3,\n",
       " 204412.94,\n",
       " 255476.73,\n",
       " 196205.58,\n",
       " 198285.64,\n",
       " 208213.62,\n",
       " 177285.12,\n",
       " 218898.58,\n",
       " 293015.66]"
      ]
     },
     "execution_count": 32,
     "metadata": {},
     "output_type": "execute_result"
    }
   ],
   "source": [
    "val, idx = min((val, idx) for (idx, val) in enumerate(distance))\n",
    "print(style_paths[idx])\n",
    "distance"
   ]
  },
  {
   "cell_type": "code",
   "execution_count": null,
   "metadata": {
    "collapsed": true
   },
   "outputs": [],
   "source": []
  }
 ],
 "metadata": {
  "kernelspec": {
   "display_name": "Python 3",
   "language": "python",
   "name": "python3"
  },
  "language_info": {
   "codemirror_mode": {
    "name": "ipython",
    "version": 3
   },
   "file_extension": ".py",
   "mimetype": "text/x-python",
   "name": "python",
   "nbconvert_exporter": "python",
   "pygments_lexer": "ipython3",
   "version": "3.5.1"
  }
 },
 "nbformat": 4,
 "nbformat_minor": 0
}
