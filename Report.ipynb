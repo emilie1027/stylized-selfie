{
 "cells": [
  {
   "cell_type": "markdown",
   "metadata": {},
   "source": [
    "# Abstract\n",
    "I build a system to create stylized portrait based on Gayts works \"A neural algorithm of Artistic style\". Once a user uploaded its selfie, the system will auto-select the top 3 matches in the arts gallery of 1000 images spanning 100 artists and create the user's portrait using styles of top matches. This system, rather than let users manually choose art style, picks the most relevant arts for the user. Thus, avoid the potential of creating bad works.\n",
    "\n",
    "### keywords: \n",
    "convolutional neural network, \n",
    "\n",
    "# 1 Introduction\n",
    "(1) introduction to non-realistic portrait rendering\n",
    "(2) introduction to cnn artistic style creation\n",
    "(3) introdcution to my system\n",
    "\n",
    "# 2 Background\n",
    "## 2.1 Previous Work\n",
    "(1) cnn to render artistic style\n",
    "(2) It's limitatition on stylized portrait rendering\n",
    "## 2.2 My Contribution\n",
    "I propose a system for content-aware style transfer\n",
    "2.2.1 变形问题\n",
    "(1) initialization\n",
    "(2) the independency between content and style\n",
    "2.2.2 background\n",
    "(1) segmentation\n",
    "(2) spatial constraints\n",
    "2.2.3 auto selection\n",
    "(1) distance computation\n",
    "(2) style image selection (similar face and pose)\n",
    "\n",
    "# 3 Algorithm\n",
    "## 3.1 neural algorithm for artistic style\n",
    "neural algorithm from Gatys 2015\n",
    "3.1 structure\n",
    "3.2 discussion\n",
    "(1) content feature choosing\n",
    "(2) style feature choosing\n",
    "(3) correlation between content and style: how to achieve high style-content ratio and maintain the content? We want to maintain certain global feature (content) while in the meantime change local features to achieve certain style.\n",
    "## 3.2 content and background??\n",
    "(1) segmentation\n",
    "(2) spatial control\n",
    "## 3.3 Auto selection\n",
    "(1) dataset collection\n",
    "(2) distance computation\n",
    "\n",
    "# 4 Experiments\n",
    "## 4.1 Experiments with neural algorithm\n",
    "(1) initialization\n",
    "(2) iteration\n",
    "(3) content feature and style feature\n",
    "## 4.2 Experiments with content and background\n",
    "\n",
    "## 4.3 Auto Selection\n",
    "\n",
    "# 5 Discussion\n"
   ]
  },
  {
   "cell_type": "markdown",
   "metadata": {},
   "source": []
  },
  {
   "cell_type": "code",
   "execution_count": null,
   "metadata": {
    "collapsed": true
   },
   "outputs": [],
   "source": []
  }
 ],
 "metadata": {
  "kernelspec": {
   "display_name": "Python 3",
   "language": "python",
   "name": "python3"
  },
  "language_info": {
   "codemirror_mode": {
    "name": "ipython",
    "version": 3
   },
   "file_extension": ".py",
   "mimetype": "text/x-python",
   "name": "python",
   "nbconvert_exporter": "python",
   "pygments_lexer": "ipython3",
   "version": "3.5.1"
  }
 },
 "nbformat": 4,
 "nbformat_minor": 0
}
